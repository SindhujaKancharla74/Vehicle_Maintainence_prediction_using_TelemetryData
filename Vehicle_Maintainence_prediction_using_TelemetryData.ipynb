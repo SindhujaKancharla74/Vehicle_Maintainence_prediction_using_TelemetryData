{
  "nbformat": 4,
  "nbformat_minor": 0,
  "metadata": {
    "colab": {
      "provenance": []
    },
    "kernelspec": {
      "name": "python3",
      "display_name": "Python 3"
    },
    "language_info": {
      "name": "python"
    }
  },
  "cells": [
    {
      "cell_type": "code",
      "source": [
        "# Import necessary libraries\n",
        "import pandas as pd\n",
        "import numpy as np\n",
        "from sklearn.model_selection import train_test_split, RandomizedSearchCV\n",
        "from sklearn.ensemble import RandomForestClassifier\n",
        "from sklearn.preprocessing import StandardScaler\n",
        "from sklearn.decomposition import PCA\n",
        "from sklearn.metrics import accuracy_score, classification_report, confusion_matrix\n",
        "from xgboost import XGBClassifier\n",
        "from imblearn.over_sampling import SMOTE\n",
        "import joblib\n",
        "\n",
        "# Load the telemetry data from CSV\n",
        "data = pd.read_csv('vehicle_telemetry.csv')\n",
        "\n",
        "# Feature Engineering: Adding new feature (mileage per wear_tear ratio)\n",
        "data['mileage_wear_ratio'] = data['mileage'] / data['wear_tear']\n",
        "\n",
        "# Feature selection\n",
        "X = data[['mileage', 'engine_temp', 'oil_pressure', 'wear_tear', 'mileage_wear_ratio']]\n",
        "y = data['maintenance_needed']\n",
        "\n",
        "# Handle class imbalance using SMOTE (Synthetic Minority Over-sampling Technique)\n",
        "smote = SMOTE(random_state=42)\n",
        "X_res, y_res = smote.fit_resample(X, y)\n",
        "\n",
        "# Split the data into training and testing sets (80% train, 20% test)\n",
        "X_train, X_test, y_train, y_test = train_test_split(X_res, y_res, test_size=0.2, random_state=42)\n",
        "\n",
        "# Scale the features\n",
        "scaler = StandardScaler()\n",
        "X_train_scaled = scaler.fit_transform(X_train)\n",
        "X_test_scaled = scaler.transform(X_test)\n",
        "\n",
        "# Optional: PCA for dimensionality reduction (can experiment with the number of components)\n",
        "pca = PCA(n_components=5)\n",
        "X_train_pca = pca.fit_transform(X_train_scaled)\n",
        "X_test_pca = pca.transform(X_test_scaled)\n",
        "\n",
        "# Initialize XGBoost model (you can try RandomForestClassifier or others too)\n",
        "model = XGBClassifier(random_state=42)\n",
        "\n",
        "# Set up hyperparameter tuning (RandomizedSearch for faster exploration)\n",
        "param_dist = {\n",
        "    'n_estimators': [100, 200, 300],\n",
        "    'learning_rate': [0.01, 0.1, 0.2],\n",
        "    'max_depth': [3, 5, 7, 9],\n",
        "    'subsample': [0.8, 0.9, 1.0],\n",
        "    'colsample_bytree': [0.8, 1.0],\n",
        "}\n",
        "\n",
        "# Perform RandomizedSearchCV for faster hyperparameter tuning\n",
        "random_search = RandomizedSearchCV(estimator=model, param_distributions=param_dist, n_iter=50,\n",
        "                                   cv=5, random_state=42, n_jobs=-1, verbose=2)\n",
        "random_search.fit(X_train_pca, y_train)\n",
        "\n",
        "# Get the best model after hyperparameter tuning\n",
        "best_model = random_search.best_estimator_\n",
        "\n",
        "# Make predictions on the test set\n",
        "y_pred = best_model.predict(X_test_pca)\n",
        "\n",
        "# Evaluate the model performance\n",
        "accuracy = accuracy_score(y_test, y_pred)\n",
        "print(f'Accuracy: {accuracy:.2f}')\n",
        "print('Best Parameters:', random_search.best_params_)\n",
        "print('Classification Report:')\n",
        "print(classification_report(y_test, y_pred))\n",
        "\n",
        "# Confusion matrix\n",
        "print('Confusion Matrix:')\n",
        "print(confusion_matrix(y_test, y_pred))\n",
        "\n",
        "# Save the trained model for future predictions\n",
        "joblib.dump(best_model, 'vehicle_maintenance_improved_model_xgboost.pkl')\n",
        "\n",
        "# To load and use the model later:\n",
        "# loaded_model = joblib.load('vehicle_maintenance_improved_model_xgboost.pkl')\n",
        "# predictions = loaded_model.predict(new_data)\n"
      ],
      "metadata": {
        "colab": {
          "base_uri": "https://localhost:8080/"
        },
        "id": "99S3MuS513_Q",
        "outputId": "69a81e9e-224b-4639-d7c1-00d4530f228b"
      },
      "execution_count": null,
      "outputs": [
        {
          "output_type": "stream",
          "name": "stdout",
          "text": [
            "Fitting 5 folds for each of 50 candidates, totalling 250 fits\n",
            "Accuracy: 0.71\n",
            "Best Parameters: {'subsample': 0.9, 'n_estimators': 300, 'max_depth': 7, 'learning_rate': 0.2, 'colsample_bytree': 1.0}\n",
            "Classification Report:\n",
            "              precision    recall  f1-score   support\n",
            "\n",
            "           0       0.67      0.80      0.73        10\n",
            "           1       0.78      0.64      0.70        11\n",
            "\n",
            "    accuracy                           0.71        21\n",
            "   macro avg       0.72      0.72      0.71        21\n",
            "weighted avg       0.72      0.71      0.71        21\n",
            "\n",
            "Confusion Matrix:\n",
            "[[8 2]\n",
            " [4 7]]\n"
          ]
        },
        {
          "output_type": "execute_result",
          "data": {
            "text/plain": [
              "['vehicle_maintenance_improved_model_xgboost.pkl']"
            ]
          },
          "metadata": {},
          "execution_count": 1
        }
      ]
    }
  ]
}